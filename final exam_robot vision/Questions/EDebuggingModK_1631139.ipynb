{
 "cells": [
  {
   "cell_type": "code",
   "execution_count": null,
   "id": "f2b3fa73",
   "metadata": {},
   "outputs": [],
   "source": [
    "\n",
    "import matplotlib.pyplot as plt\n",
    "import numpy as np\n",
    "import random\n",
    "import math\n",
    "from IPython.display import display, HTML\n",
    "import cv2\n",
    "    "
   ]
  },
  {
   "cell_type": "code",
   "execution_count": 1,
   "id": "de4dc804",
   "metadata": {},
   "outputs": [
    {
     "name": "stdout",
     "output_type": "stream",
     "text": [
      "STUDENT ID 61275029H\n",
      "STUDENT NAME kevin 丁柏丞\n"
     ]
    }
   ],
   "source": [
    "\n",
    "student_id = input(\"Enter your student id\")\n",
    "student_name = input(\"Enter your name\")\n",
    "print(\"STUDENT ID\", student_id)\n",
    "print(\"STUDENT NAME\", student_name)\n"
   ]
  },
  {
   "cell_type": "markdown",
   "id": "a8942f74",
   "metadata": {},
   "source": [
    "<!-- <div class=\"question_frame\"> --><!-- start of question_frame -->\n"
   ]
  },
  {
   "cell_type": "markdown",
   "id": "872efb95",
   "metadata": {},
   "source": [
    "<!-- <div class=\"question_frame\"> --><!-- start of question_frame -->\n"
   ]
  },
  {
   "cell_type": "markdown",
   "id": "83d7a753",
   "metadata": {},
   "source": [
    "\n",
    "<h1>Mystery Program</h1>\n",
    "<div class=\"question_body\">\n",
    "\n",
    "<p>Given is the following code of a mystery function\n",
    "that takes a single list of integers <code>lst</code> as input.</p>\n",
    "\n",
    "</div><!-- end of question_body -->\n"
   ]
  },
  {
   "cell_type": "code",
   "execution_count": null,
   "id": "c760a9aa",
   "metadata": {},
   "outputs": [],
   "source": [
    "\n",
    "def mystery(lst):\n",
    "    sum = 0\n",
    "    for i,e in enumerate(lst):\n",
    "        if (i > 5):\n",
    "            p = 0\n",
    "            for j in range(i):\n",
    "                p = p + i\n",
    "                if p + 1 == e:\n",
    "                    sum = sum + (e % 5)\n",
    "                    break\n",
    "    return sum\n",
    "\n",
    "target = 18\n",
    "lst = [] # Replace list with your input\n",
    "if (len(lst)) > 0:\n",
    "    assert(mystery(lst) == target)\n"
   ]
  },
  {
   "cell_type": "markdown",
   "id": "f87a2721",
   "metadata": {},
   "source": [
    "\n",
    "<div class=\"question_marks\">\n",
    "<span class=\"mark_num\" style=\"text-align:right\">10</span> marks\n",
    "</div><!-- end of question_marks -->\n"
   ]
  },
  {
   "cell_type": "markdown",
   "id": "26c9f6b7",
   "metadata": {},
   "source": [
    "\n",
    "<p>Generate an input list <code>lst</code> such that the <code>mystery</code>\n",
    "function returns the value 18</p>\n"
   ]
  },
  {
   "cell_type": "markdown",
   "id": "d250044a",
   "metadata": {},
   "source": [
    "<p>Show your work and explain your answer in this cell. You can add additional markdown and code cells, if you want to after this cell.</p>"
   ]
  },
  {
   "cell_type": "code",
   "execution_count": 21,
   "id": "41d17115",
   "metadata": {},
   "outputs": [
    {
     "name": "stdout",
     "output_type": "stream",
     "text": [
      "18\n"
     ]
    }
   ],
   "source": [
    "def mystery(lst):\n",
    "    sum = 0\n",
    "    for i,e in enumerate(lst):\n",
    "        if (i > 5):\n",
    "            p = 0\n",
    "            for j in range(i):\n",
    "                p = p + i\n",
    "                if p + 1 == e:\n",
    "                    sum = sum + (e % 5)\n",
    "                    break\n",
    "    return sum\n",
    "\n",
    "target = 18\n",
    "lst = [0,0,0,0,0,0,19,29,49,19,0,12]  # Replace list with your input\n",
    "if (len(lst)) > 0:\n",
    "    assert(mystery(lst) == target)"
   ]
  },
  {
   "cell_type": "markdown",
   "id": "5b3f6446",
   "metadata": {},
   "source": [
    "It will only work if i>5, so the first 6 are 0, for j in range(i): it is accumulated i, if i is 6, p will appear 6,12,18,24,30,36,So on and so forth\n",
    "So when the 6th cell is 19, 19%5=4,\n",
    "So when the 7th cell is 29, 29%=4,\n",
    "So when the 8th cell is 49, 49%5=4,\n",
    "So when the 9th cell is 19, 19%5=4,\n",
    "So when the 11th cell is 12, 12%5=2,\n",
    "4+4+4+4+2=18"
   ]
  },
  {
   "cell_type": "markdown",
   "id": "cca851f5",
   "metadata": {},
   "source": [
    "<!-- </div> --><!-- end of question_frame -->\n"
   ]
  },
  {
   "cell_type": "markdown",
   "id": "ce2b9920",
   "metadata": {},
   "source": [
    "<!-- <div class=\"question_frame\"> --><!-- start of question_frame -->\n"
   ]
  },
  {
   "cell_type": "markdown",
   "id": "ce220791",
   "metadata": {},
   "source": [
    "\n",
    "<h1>Runtime Analysis</h1>\n",
    "<div class=\"question_body\">\n",
    "\n",
    "<p>Using an input list with 2500 numbers, the mystery routine takes 1069 milliseconds</p>\n",
    "\n",
    "<p>Estimate the maximum length of your input list, so that the mystery routine will\n",
    "return in 5263 milliseconds.</p>\n",
    "\n",
    "</div><!-- end of question_body -->\n"
   ]
  },
  {
   "cell_type": "markdown",
   "id": "cca8ae46",
   "metadata": {},
   "source": [
    "\n",
    "<div class=\"question_marks\">\n",
    "<span class=\"mark_num\" style=\"text-align:right\">5</span> marks\n",
    "</div><!-- end of question_marks -->\n"
   ]
  },
  {
   "cell_type": "markdown",
   "id": "108f4d8e",
   "metadata": {},
   "source": [
    "\n",
    "<p>\n",
    "Estimated max. size of the input list, such that the mystery function will return\n",
    "in 5263 milliseconds: ENTER YOUR NUMBER HERE</p>\n"
   ]
  },
  {
   "cell_type": "markdown",
   "id": "4b666c1e",
   "metadata": {},
   "source": [
    "<p>Show your work and explain your answer in this cell. You can add additional markdown and code cells, if you want to after this cell.</p>"
   ]
  },
  {
   "cell_type": "code",
   "execution_count": 23,
   "id": "e4d81ef2",
   "metadata": {},
   "outputs": [
    {
     "name": "stdout",
     "output_type": "stream",
     "text": [
      "2500\n"
     ]
    }
   ],
   "source": [
    "def mystery(lst):\n",
    "    sum = 0\n",
    "    for i,e in enumerate(lst):\n",
    "        if (i > 5):\n",
    "            p = 0\n",
    "            for j in range(i):\n",
    "                p = p + i\n",
    "                if p + 1 == e:\n",
    "                    sum = sum + (e % 5)\n",
    "                    break\n",
    "    return sum\n",
    "\n",
    "target = 18\n",
    "lst = [0,0,0,0,0,0,19,29,49,19,0,12]  # Replace list with your input\n",
    "for x in range(0,2500-len(lst)):\n",
    "    lst+=[0]\n",
    "if (len(lst)) > 0:\n",
    "    assert(mystery(lst) == target)"
   ]
  },
  {
   "cell_type": "markdown",
   "id": "b479d9f2",
   "metadata": {},
   "source": [
    "If the length is less than 2500, fill it with 0"
   ]
  },
  {
   "cell_type": "markdown",
   "id": "e7173d56",
   "metadata": {},
   "source": [
    "<!-- </div> --><!-- end of question_frame -->\n"
   ]
  }
 ],
 "metadata": {
  "kernelspec": {
   "display_name": "Python 3",
   "language": "python",
   "name": "python3"
  },
  "language_info": {
   "codemirror_mode": {
    "name": "ipython",
    "version": 3
   },
   "file_extension": ".py",
   "mimetype": "text/x-python",
   "name": "python",
   "nbconvert_exporter": "python",
   "pygments_lexer": "ipython3",
   "version": "3.9.13"
  }
 },
 "nbformat": 4,
 "nbformat_minor": 5
}
